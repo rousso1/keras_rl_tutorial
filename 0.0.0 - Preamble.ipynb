{
 "cells": [
  {
   "cell_type": "markdown",
   "metadata": {},
   "source": [
    " "
   ]
  },
  {
   "cell_type": "markdown",
   "metadata": {},
   "source": [
    "<div>\n",
    "    <br>\n",
    "    <center><strong><h1>Hands-On Reinforcement Learning Tutorial!</h1></strong></center>\n",
    "    <center><strong><h3>Yam Peleg</h3></strong></center>\n",
    "<div>"
   ]
  },
  {
   "cell_type": "markdown",
   "metadata": {},
   "source": [
    "------"
   ]
  },
  {
   "cell_type": "markdown",
   "metadata": {},
   "source": [
    "<div>\n",
    "    <center><img src=\"imgs/keras_logo_humans.png\" width=\"30%\"/>\n",
    "    <h1>www.github.com/ypeleg/keras_rl_tutorial</h1></center>\n",
    "<div>"
   ]
  },
  {
   "cell_type": "markdown",
   "metadata": {},
   "source": [
    "------"
   ]
  },
  {
   "cell_type": "markdown",
   "metadata": {},
   "source": [
    "## 1. *How to tune in*?\n",
    "\n",
    "##  tl;dr: \n",
    "------\n",
    "<center><strong>0.0.0 - Preamble</strong>\n",
    "<a href=\"https://colab.research.google.com/github/ypeleg/keras_rl_tutorial/blob/master/0.0.0%20-%20Preamble.ipynb\" target=\"_parent\"><img src=\"https://colab.research.google.com/assets/colab-badge.svg\" alt=\"Open In Colab\"/></a></center>\n",
    "<br>\n",
    "<center><strong>0.0.1 - Demo1</strong>\n",
    "<a href=\"https://colab.research.google.com/github/ypeleg/keras_rl_tutorial/blob/master/0.0.1%20-%20Demo1.ipynb\" target=\"_parent\"><img src=\"https://colab.research.google.com/assets/colab-badge.svg\" alt=\"Open In Colab\"/></a></center>\n",
    "<br>\n",
    "<center><strong>0.0.2 Keras Functional API</strong>\n",
    "<a href=\"https://colab.research.google.com/github/ypeleg/keras_rl_tutorial/blob/master/0.0.2%20-%20Introduction%20-%20Keras%20Functional%20API.ipynb\" target=\"_parent\"><img src=\"https://colab.research.google.com/assets/colab-badge.svg\" alt=\"Open In Colab\"/></a></center>\n",
    "<br>\n",
    "<center><strong>1.0.0 Hands On Tutorial - Flappy Bird</strong>\n",
    "<a href=\"https://colab.research.google.com/github/ypeleg/keras_rl_tutorial/blob/master/1.0.0%20-%20Flappy%20Bird%20-%20DQN.ipynb\" target=\"_parent\"><img src=\"https://colab.research.google.com/assets/colab-badge.svg\" alt=\"Open In Colab\"/></a></center>\n",
    "<br>\n",
    "<center><strong>1.0.1 - QLearning Baby Steps</strong>\n",
    "<a href=\"https://colab.research.google.com/github/ypeleg/keras_rl_tutorial/blob/master/1.0.1%20-%20QLearning%20Baby%20Steps.ipynb\" target=\"_parent\"><img src=\"https://colab.research.google.com/assets/colab-badge.svg\" alt=\"Open In Colab\"/></a></center>\n",
    "<br>\n",
    "<center><strong>1.0.2 - Reinforcement Learning Summary</strong>\n",
    "<a href=\"https://colab.research.google.com/github/ypeleg/keras_rl_tutorial/blob/master/1.0.2%20-%20Reinforcement%20Learning%20-%20Intro.ipynb\" target=\"_parent\"><img src=\"https://colab.research.google.com/assets/colab-badge.svg\" alt=\"Open In Colab\"/></a></center>\n",
    "<br>\n",
    "<center><strong>1.0.3 OpenAI Gym</strong>\n",
    "<a href=\"https://colab.research.google.com/github/ypeleg/keras_rl_tutorial/blob/master/1.0.3%20-%20OpenAI%20Gym%20Interface.ipynb\" target=\"_parent\"><img src=\"https://colab.research.google.com/assets/colab-badge.svg\" alt=\"Open In Colab\"/></a></center>\n",
    "<br>\n",
    "<center><strong>2.0.2 Keras RL</strong>\n",
    "<a href=\"https://colab.research.google.com/github/ypeleg/keras_rl_tutorial/blob/master/2.0.1%20-%20Reinforcement%20Learning%20-%20Keras%20DQN%20Atari.ipynb\" target=\"_parent\"><img src=\"https://colab.research.google.com/assets/colab-badge.svg\" alt=\"Open In Colab\"/></a></center>\n",
    "\n",
    "-------\n",
    "\n",
    "If you wanted to listen to someone speaks three hours straight about deep learning, You could have done so by the comfort of your house. \n",
    "\n",
    "But you are here! Physically!\n",
    "\n",
    "So...\n",
    "\n",
    "This tutorial is extremely hands-on! You are strongly encouraged to play with it yourself!  \n",
    "\n",
    "### Options: \n",
    "\n",
    "\n",
    "### $\\varepsilon$.  Run the notebooks locally \n",
    "- `git clone https://github.com/ypeleg/keras_rl_tutorial`\n",
    "\n",
    "\n",
    "- You might think that the goal of this tutorial is for you to play around a bit with deep learning. **You Are Wrong.**\n",
    "\n",
    "\n",
    "<br>\n",
    "<div>\n",
    "    <center><strong><h4>The real goal of the tutorial is</h4></strong></center>\n",
    "    <center><strong><h3>To give you the Flexibility to use all this In your own domain!</h3></strong></center>\n",
    "<div>\n",
    "<br>\n",
    "\n",
    "Therefore, running all of this on your machine is **by far** the best option if you can get it working! \n",
    "\n",
    "------\n",
    "\n",
    "\n",
    "### a. Play with the _notebooks_ dynamically (on Google Colab) \n",
    "\n",
    "- Anyone can use the [colab.research.google.com/notebook](https://colab.research.google.com/notebook) website (by [clicking](XXX) on the icon bellow) to run the notebook in her/his web-browser. You can then play with it as long as you like! \n",
    "- For this tutorial:\n",
    "[![Google Colab](https://badgen.net/badge/Launch/on%20Google%20Colab/blue?icon=terminal)](https://colab.research.google.com/github/ypeleg/keras_rl_tutorial)\n",
    "------\n",
    "\n",
    "### b. Play with the _notebooks_ dynamically (on MyBinder) \n",
    "[![Binder](https://mybinder.org/badge_logo.svg)](http://mybinder.org/v2/gh/github/ypeleg/keras_rl_tutorial)\n",
    "\n",
    "Anyone can use the [mybinder.org](http://mybinder.org/) website (by [clicking](http://mybinder.org/v2/gh/github/ypeleg/keras_rl_tutorial) on the icon above) to run the notebook in her/his web-browser.\n",
    "You can then play with it as long as you like, for instance by modifying the values or experimenting with the code.\n",
    "\n",
    "### c. View the _notebooks_ statically. (if all else failed..)\n",
    "- Either directly in GitHub: [ypeleg/ExpertDL](https://github.com/ypeleg/keras_rl_tutorial);\n",
    "- Or on nbviewer: [notebooks](http://nbviewer.jupyter.org/github/ypeleg/keras_rl_tutorial/)."
   ]
  },
  {
   "cell_type": "markdown",
   "metadata": {},
   "source": [
    "---"
   ]
  },
  {
   "cell_type": "markdown",
   "metadata": {},
   "source": [
    "## What do I mean High Order?\n",
    "\n",
    "In short [1], one can treat recent advancements of the field of deep learning as an increment of order (complexity-wise) where the components we use now in DL research were the whole experiments not long ago. \n",
    "\n",
    "Example: GANs involve training a neural networks on top of the output from another neural network. This can be viewed as a network of networks. \n",
    "\n",
    "Example: Some Reinforcement Learning algorithms (Mostly A3C) involves using a network for predicting the future reward of a state and using another network that based of that predicts the optimal action. Again a network of networks. \n",
    "\n",
    "\n",
    "In this tutorial we assume that we allready have deep learning networks ready for us as of the shelf tools and we use them to construct more complex algorithms.\n",
    "\n",
    "\n",
    "\n",
    "[1]. Poking this with me opens the pandora box.. \n",
    "     We might cover this is in great detail at the end of the tutorial. Depends on time."
   ]
  },
  {
   "cell_type": "markdown",
   "metadata": {
    "collapsed": true
   },
   "source": [
    "# Outline at a glance\n",
    "\n",
    "- **Part I**: **Introduction**\n",
    "\n",
    "    - Intro Keras\n",
    "        - Functional API    \n",
    "       \n",
    "    - Reinforcement Learning\n",
    "        - Intro\n",
    "        - Bandit \n",
    "        - Q learning\n",
    "        - Policy Gradients\n",
    "\n",
    "    - Generative Adversarial Networks\n",
    "        - Intro\n",
    "        - DCGAN\n",
    "        - CGAN\n",
    "        - WGAN\n",
    "        \n",
    "    - Embeddings\n",
    "    \n",
    "    - Advanced Natural Language Processing\n",
    "        - Transformers\n",
    "        - Elmo\n",
    "        - Bert        "
   ]
  },
  {
   "cell_type": "markdown",
   "metadata": {},
   "source": [
    "## One More thing..\n",
    "\n",
    "\n",
    "<img style =\"width:70%;\" src=\"images/matplotlib.jpg\"/>\n",
    "\n",
    "\n",
    "You are probably famillier with this.. so..\n",
    "\n",
    "### The tachles.py file\n",
    "\n",
    "In this tutorial many of the irrelevant details are hidden in a special file called \"tachles.py\".\n",
    "Simply go:"
   ]
  },
  {
   "cell_type": "code",
   "execution_count": null,
   "metadata": {},
   "outputs": [],
   "source": [
    "import os \n",
    "if not os.path.exists('keras_rl_tutorial'): os.system('git clone https://github.com/ypeleg/keras_rl_tutorial/')\n",
    "os.chdir('keras_rl_tutorial')"
   ]
  },
  {
   "cell_type": "code",
   "execution_count": null,
   "metadata": {},
   "outputs": [],
   "source": [
    "import tachles"
   ]
  },
  {
   "cell_type": "markdown",
   "metadata": {},
   "source": [
    "---"
   ]
  },
  {
   "cell_type": "markdown",
   "metadata": {},
   "source": [
    "# Requirements"
   ]
  },
  {
   "cell_type": "markdown",
   "metadata": {},
   "source": [
    "This tutorial requires the following packages:\n",
    "\n",
    "- Python version 2.7.11 Or Python version 3.5\n",
    "    - Other versions of Python should be fine as well. \n",
    "    - but.. *who knows*? :P\n",
    "    \n",
    "- `numpy` version 1.10 or later: http://www.numpy.org/\n",
    "- `scipy` version 0.16 or later: http://www.scipy.org/\n",
    "- `matplotlib` version 1.4 or later: http://matplotlib.org/\n",
    "- `pandas` version 0.16 or later: http://pandas.pydata.org\n",
    "- `scikit-learn` version 0.15 or later: http://scikit-learn.org\n",
    "- `keras` version 2.0 or later: http://keras.io\n",
    "- `tensorflow` version 1.0 or later: https://www.tensorflow.org\n",
    "- `ipython`/`jupyter` version 4.0 or later, with notebook support\n",
    "\n",
    "(Optional but recommended):\n",
    "\n",
    "- `pyyaml`\n",
    "- `hdf5` and `h5py` (required if you use model saving/loading functions in keras)\n",
    "- **NVIDIA cuDNN** if you have NVIDIA GPUs on your machines.\n",
    "    [https://developer.nvidia.com/rdp/cudnn-download]()\n",
    "\n",
    "The easiest way to get (most) these is to use an all-in-one installer such as [Anaconda](http://www.continuum.io/downloads) from Continuum. These are available for multiple architectures."
   ]
  },
  {
   "cell_type": "markdown",
   "metadata": {},
   "source": [
    "---"
   ]
  },
  {
   "cell_type": "markdown",
   "metadata": {},
   "source": [
    "### Python Version"
   ]
  },
  {
   "cell_type": "markdown",
   "metadata": {},
   "source": [
    "I'm currently running this tutorial with **Python 3** on **Anaconda**"
   ]
  },
  {
   "cell_type": "code",
   "execution_count": 1,
   "metadata": {},
   "outputs": [
    {
     "name": "stdout",
     "output_type": "stream",
     "text": [
      "Python 3.5.2\r\n"
     ]
    }
   ],
   "source": [
    "!python --version"
   ]
  },
  {
   "cell_type": "markdown",
   "metadata": {},
   "source": [
    "---"
   ]
  },
  {
   "cell_type": "markdown",
   "metadata": {},
   "source": [
    "# Test if everything is up&running"
   ]
  },
  {
   "cell_type": "markdown",
   "metadata": {},
   "source": [
    "## 1. Check import"
   ]
  },
  {
   "cell_type": "code",
   "execution_count": 3,
   "metadata": {
    "collapsed": true
   },
   "outputs": [],
   "source": [
    "import numpy as np\n",
    "import scipy as sp\n",
    "import pandas as pd\n",
    "import matplotlib.pyplot as plt\n",
    "import sklearn"
   ]
  },
  {
   "cell_type": "code",
   "execution_count": 4,
   "metadata": {},
   "outputs": [
    {
     "name": "stderr",
     "output_type": "stream",
     "text": [
      "Using TensorFlow backend.\n"
     ]
    }
   ],
   "source": [
    "import keras"
   ]
  },
  {
   "cell_type": "markdown",
   "metadata": {},
   "source": [
    "## 2. Check installeded Versions"
   ]
  },
  {
   "cell_type": "code",
   "execution_count": 1,
   "metadata": {
    "pycharm": {
     "is_executing": false
    }
   },
   "outputs": [
    {
     "name": "stdout",
     "text": [
      "numpy: 1.18.1\n",
      "scipy: 1.4.1\n",
      "matplotlib: 3.1.3\n",
      "iPython: 7.12.0\n",
      "scikit-learn: 0.22.1\n"
     ],
     "output_type": "stream"
    }
   ],
   "source": [
    "import numpy\n",
    "print('numpy:', numpy.__version__)\n",
    "\n",
    "import scipy\n",
    "print('scipy:', scipy.__version__)\n",
    "\n",
    "import matplotlib\n",
    "print('matplotlib:', matplotlib.__version__)\n",
    "\n",
    "import IPython\n",
    "print('iPython:', IPython.__version__)\n",
    "\n",
    "import sklearn\n",
    "print('scikit-learn:', sklearn.__version__)"
   ]
  },
  {
   "cell_type": "code",
   "execution_count": 2,
   "metadata": {
    "pycharm": {
     "is_executing": false
    }
   },
   "outputs": [
    {
     "name": "stderr",
     "text": [
      "Using TensorFlow backend.\n"
     ],
     "output_type": "stream"
    },
    {
     "name": "stdout",
     "text": [
      "keras:  2.3.1\n",
      "Tensorflow:  2.0.0\n"
     ],
     "output_type": "stream"
    }
   ],
   "source": [
    "import keras\n",
    "print('keras: ', keras.__version__)\n",
    "\n",
    "# optional\n",
    "# import theano\n",
    "# print('Theano: ', theano.__version__)\n",
    "\n",
    "import tensorflow as tf\n",
    "print('Tensorflow: ', tf.__version__)"
   ]
  },
  {
   "cell_type": "markdown",
   "metadata": {},
   "source": [
    "<br>\n",
    "<h1 style=\"text-align: center;\">If everything worked till down here, you're ready to start!</h1>"
   ]
  },
  {
   "cell_type": "markdown",
   "metadata": {},
   "source": [
    "---\n"
   ]
  }
 ],
 "metadata": {
  "kernelspec": {
   "name": "python3",
   "language": "python",
   "display_name": "Python 3"
  },
  "language_info": {
   "codemirror_mode": {
    "name": "ipython",
    "version": 2
   },
   "file_extension": ".py",
   "mimetype": "text/x-python",
   "name": "python",
   "nbconvert_exporter": "python",
   "pygments_lexer": "ipython2",
   "version": "2.7.16"
  },
  "pycharm": {
   "stem_cell": {
    "cell_type": "raw",
    "source": [],
    "metadata": {
     "collapsed": false
    }
   }
  }
 },
 "nbformat": 4,
 "nbformat_minor": 2
}